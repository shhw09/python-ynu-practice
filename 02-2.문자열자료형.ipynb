{
 "cells": [
  {
   "cell_type": "markdown",
   "metadata": {},
   "source": [
    "### 문자열은 어떻게 사용할까?\n",
    "- \"문자열\""
   ]
  },
  {
   "cell_type": "code",
   "execution_count": 4,
   "metadata": {},
   "outputs": [
    {
     "name": "stdout",
     "output_type": "stream",
     "text": [
      "Hello World\n",
      "<class 'str'>\n"
     ]
    }
   ],
   "source": [
    "# 큰따옴표\n",
    "a = \"Hello World\"\n",
    "print(a)\n",
    "print(type(a))\n",
    "\n",
    "# (참고) str은 문자열"
   ]
  },
  {
   "cell_type": "code",
   "execution_count": 5,
   "metadata": {},
   "outputs": [
    {
     "name": "stdout",
     "output_type": "stream",
     "text": [
      "Python is fun\n",
      "<class 'str'>\n"
     ]
    }
   ],
   "source": [
    "# 작은따옴표\n",
    "b = 'Python is fun'\n",
    "print(b)\n",
    "print(type(b))"
   ]
  },
  {
   "cell_type": "code",
   "execution_count": 6,
   "metadata": {},
   "outputs": [
    {
     "name": "stdout",
     "output_type": "stream",
     "text": [
      "Life is too short, You need python\n",
      "<class 'str'>\n"
     ]
    }
   ],
   "source": [
    "# 큰따옴표 3개\n",
    "c = \"\"\"Life is too short, You need python\"\"\"\n",
    "print(c)\n",
    "print(type(c))"
   ]
  },
  {
   "cell_type": "code",
   "execution_count": 8,
   "metadata": {},
   "outputs": [
    {
     "name": "stdout",
     "output_type": "stream",
     "text": [
      "Life is too short, You need python\n",
      "<class 'str'>\n"
     ]
    }
   ],
   "source": [
    "# 작은따옴표 3개\n",
    "d = '''Life is too short, You need python'''\n",
    "print(d)\n",
    "print(type(d))"
   ]
  },
  {
   "cell_type": "code",
   "execution_count": 9,
   "metadata": {},
   "outputs": [
    {
     "name": "stdout",
     "output_type": "stream",
     "text": [
      "Python's favorite food is perl\n"
     ]
    }
   ],
   "source": [
    "food = \"Python's favorite food is perl\"\n",
    "print(food)"
   ]
  },
  {
   "cell_type": "code",
   "execution_count": 19,
   "metadata": {},
   "outputs": [
    {
     "name": "stdout",
     "output_type": "stream",
     "text": [
      "Python's favorite food is perl\n",
      "\"Python is very easy\" he says\n",
      "Python's favorite food is perl\n",
      "\"Python is very easy\" he says\n"
     ]
    }
   ],
   "source": [
    "food = \"Python's favorite food is perl\"\n",
    "print(food)\n",
    "\n",
    "say = '\"Python is very easy\" he says'\n",
    "print(say)\n",
    "\n",
    "# 문자 안에 따옴표가 있을 경우 내부 따옴표가 아닌 다른 따옴표 사용\n",
    "# 혹은 \\(역슬래시) 사용\n",
    "\n",
    "food = 'Python\\'s favorite food is perl'\n",
    "say = \"\\\"Python is very easy\\\" he says\"\n",
    "\n",
    "print(food)\n",
    "print(say)"
   ]
  },
  {
   "cell_type": "markdown",
   "metadata": {},
   "source": [
    "### 여러 줄 문자열 표현"
   ]
  },
  {
   "cell_type": "code",
   "execution_count": 27,
   "metadata": {},
   "outputs": [
    {
     "name": "stdout",
     "output_type": "stream",
     "text": [
      "Life is too short\n",
      "You need python\n"
     ]
    }
   ],
   "source": [
    "# 이스케이프 코드 \\n 줄 바꿈\n",
    "\n",
    "multiline = \"Life is too short\\nYou need python\"\n",
    "print(multiline)"
   ]
  },
  {
   "cell_type": "code",
   "execution_count": 28,
   "metadata": {},
   "outputs": [
    {
     "name": "stdout",
     "output_type": "stream",
     "text": [
      "\n",
      "Life is too short\n",
      "you need python\n",
      "\n"
     ]
    }
   ],
   "source": [
    "# 작은 따옴표3개, 큰따옴표3개 활용\n",
    "\n",
    "multiline = '''\n",
    "Life is too short\n",
    "you need python\n",
    "'''   \n",
    "print(multiline)\n",
    "\n",
    "# Tap키 : 4칸 이동\n",
    "# shift + Tap : 복구\n"
   ]
  },
  {
   "cell_type": "markdown",
   "metadata": {},
   "source": [
    "### 문자열 연산"
   ]
  },
  {
   "cell_type": "code",
   "execution_count": 30,
   "metadata": {},
   "outputs": [
    {
     "name": "stdout",
     "output_type": "stream",
     "text": [
      "Python is fun!\n"
     ]
    }
   ],
   "source": [
    "# 문자열 더하기\n",
    "\n",
    "head = \"Python\"\n",
    "tail = \" is fun!\"\n",
    "\n",
    "print(head + tail)"
   ]
  },
  {
   "cell_type": "code",
   "execution_count": 31,
   "metadata": {},
   "outputs": [
    {
     "name": "stdout",
     "output_type": "stream",
     "text": [
      "pythonpythonpythonpythonpython\n"
     ]
    }
   ],
   "source": [
    "# 문자열 곱하기\n",
    "\n",
    "a = \"python\"\n",
    "print(a * 5)"
   ]
  },
  {
   "cell_type": "code",
   "execution_count": 34,
   "metadata": {},
   "outputs": [
    {
     "name": "stdout",
     "output_type": "stream",
     "text": [
      "======================\n",
      "====================\n",
      "My Program\n",
      "============================================================\n"
     ]
    }
   ],
   "source": [
    "print(\"======================\")\n",
    "print(\"=\" * 20)\n",
    "print(\"My Program\")\n",
    "print(\"=\" * 60)"
   ]
  },
  {
   "cell_type": "code",
   "execution_count": 35,
   "metadata": {},
   "outputs": [
    {
     "data": {
      "text/plain": [
       "17"
      ]
     },
     "execution_count": 35,
     "metadata": {},
     "output_type": "execute_result"
    }
   ],
   "source": [
    "# 문자열 길이 구하기 len()\n",
    "\n",
    "a = \"Life is too short\"\n",
    "len(a)"
   ]
  },
  {
   "cell_type": "code",
   "execution_count": 40,
   "metadata": {},
   "outputs": [
    {
     "data": {
      "text/plain": [
       "6"
      ]
     },
     "execution_count": 40,
     "metadata": {},
     "output_type": "execute_result"
    }
   ],
   "source": [
    "b = \"python\"\n",
    "len(b)\n",
    "\n",
    "# 공백 포함해서 읽혀짐"
   ]
  },
  {
   "cell_type": "markdown",
   "metadata": {},
   "source": [
    "### 문자열 인덱싱과 슬라이싱"
   ]
  },
  {
   "cell_type": "code",
   "execution_count": 46,
   "metadata": {},
   "outputs": [
    {
     "name": "stdout",
     "output_type": "stream",
     "text": [
      "34\n",
      "L\n",
      "i\n",
      "n\n",
      "Life\n"
     ]
    }
   ],
   "source": [
    "a = \"Life is too short, you need python\"\n",
    "\n",
    "print(len(a))\n",
    "print(a[0])\n",
    "print(a[1])\n",
    "print(a[-1])\n",
    "print(a[0] + a[1] + a[2] + a[3])\n",
    "\n",
    "# 0부터 시작. 위 문장에서 \"L\" 추출 시, 0을 가져옴\n",
    "# 마지막 글자는 -1\n"
   ]
  },
  {
   "cell_type": "code",
   "execution_count": 52,
   "metadata": {},
   "outputs": [
    {
     "name": "stdout",
     "output_type": "stream",
     "text": [
      "Life\n",
      "Life is\n",
      "short\n"
     ]
    }
   ],
   "source": [
    "a = \"Life is too short, you need python\"\n",
    "\n",
    "print(a[0:4])\n",
    "print(a[0:7])\n",
    "print(a[12:17])"
   ]
  },
  {
   "cell_type": "code",
   "execution_count": 66,
   "metadata": {},
   "outputs": [
    {
     "name": "stdout",
     "output_type": "stream",
     "text": [
      "you need python\n",
      "====================\n",
      "Life is too short\n",
      "====================\n",
      "Life is too short, you need python\n",
      "Life is too short, you need python\n"
     ]
    }
   ],
   "source": [
    "a = \"Life is too short, you need python\"\n",
    "\n",
    "print(a[19:])\n",
    "# 마지막 까지 추출할 때 빈칸으로\n",
    "print(\"=\" * 20)\n",
    "\n",
    "print(a[:17])\n",
    "# 처음글자 추출도 0 생략가능\n",
    "print(\"=\" * 20)\n",
    "\n",
    "print(a)\n",
    "print(a[:])"
   ]
  },
  {
   "cell_type": "code",
   "execution_count": 69,
   "metadata": {},
   "outputs": [
    {
     "name": "stdout",
     "output_type": "stream",
     "text": [
      "2024\n",
      "0806\n",
      "Sunny\n"
     ]
    }
   ],
   "source": [
    "a = \"20240806Sunny\"\n",
    "\n",
    "year = a[0:4]\n",
    "day = a[4:8]\n",
    "weather = a[8:]\n",
    "\n",
    "print(year)\n",
    "print(day)\n",
    "print(weather)\n"
   ]
  },
  {
   "cell_type": "markdown",
   "metadata": {},
   "source": [
    ">퀴즈 1\n",
    "* 출력값을 2024년 08월 06일, 오늘의 날씨는 Sunny 입니다\n",
    "* a = \"20240806Sunny\""
   ]
  },
  {
   "cell_type": "code",
   "execution_count": 89,
   "metadata": {},
   "outputs": [
    {
     "name": "stdout",
     "output_type": "stream",
     "text": [
      "2024년 08월 06일, 오늘의 날씨는 Sunny 입니다.\n"
     ]
    }
   ],
   "source": [
    "a = \"20240806Sunny\"\n",
    "\n",
    "year = a[0:4]\n",
    "month = a[4:6]\n",
    "day = a[6:8]\n",
    "weather = a[8:]\n",
    "\n",
    "print(year + \"년\", month +\"월\", day + \"일, 오늘의 날씨는\", weather + \" 입니다.\")\n"
   ]
  },
  {
   "cell_type": "code",
   "execution_count": 84,
   "metadata": {},
   "outputs": [
    {
     "name": "stdout",
     "output_type": "stream",
     "text": [
      "2024년 08월 06일, 오늘의 날씨는 Sunny 입니다.\n"
     ]
    }
   ],
   "source": [
    "# 해설\n",
    "a = \"20240806Sunny\"\n",
    "year = a[0:4]\n",
    "month = a[4:6]\n",
    "day = a[6:8]\n",
    "weather = a[8:]\n",
    "\n",
    "print(f\"{year}년 {month}월 {day}일, 오늘의 날씨는 {weather} 입니다.\")"
   ]
  },
  {
   "cell_type": "code",
   "execution_count": 94,
   "metadata": {},
   "outputs": [
    {
     "name": "stdout",
     "output_type": "stream",
     "text": [
      "Python\n"
     ]
    }
   ],
   "source": [
    "# i를 y로 바꾸기\n",
    "\n",
    "a = \"Pithon\"\n",
    "print(a[0] + \"y\" + a[2:])"
   ]
  },
  {
   "cell_type": "code",
   "execution_count": null,
   "metadata": {},
   "outputs": [],
   "source": []
  }
 ],
 "metadata": {
  "kernelspec": {
   "display_name": "Python 3",
   "language": "python",
   "name": "python3"
  },
  "language_info": {
   "codemirror_mode": {
    "name": "ipython",
    "version": 3
   },
   "file_extension": ".py",
   "mimetype": "text/x-python",
   "name": "python",
   "nbconvert_exporter": "python",
   "pygments_lexer": "ipython3",
   "version": "3.12.4"
  }
 },
 "nbformat": 4,
 "nbformat_minor": 2
}
