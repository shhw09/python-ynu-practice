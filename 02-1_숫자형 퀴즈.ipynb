{
 "cells": [
  {
   "cell_type": "markdown",
   "metadata": {},
   "source": [
    "문제1. 3.1415의 소수점 첫 번째 자리까지만 출력하시오"
   ]
  },
  {
   "cell_type": "code",
   "execution_count": 8,
   "metadata": {},
   "outputs": [
    {
     "name": "stdout",
     "output_type": "stream",
     "text": [
      "3.141500\n",
      "3.1415\n",
      "3.1415\n",
      "======================\n",
      "3.141500\n",
      "3.1415\n",
      "3.1415\n",
      "======================\n",
      "3.1\n",
      "3.1\n",
      "3.1\n"
     ]
    }
   ],
   "source": [
    "a = 3.1415\n",
    "\n",
    "print(\"%f\" % 3.1415)\n",
    "print(\"{}\". format(3.1415))\n",
    "print(f\"{3.1415}\")\n",
    "print(\"======================\")\n",
    "\n",
    "\n",
    "print(\"%f\" % a)\n",
    "print(\"{}\". format(a))\n",
    "print(f\"{a}\")\n",
    "print(\"======================\")\n",
    "\n",
    "print(\"%.1f\" % a)\n",
    "print(\"{:.1f}\". format(a))\n",
    "print(f\"{a:.1f}\")"
   ]
  },
  {
   "cell_type": "markdown",
   "metadata": {},
   "source": [
    "문제2. 아래에 나온 변수를 활용하여 문자열은 정수로 변환해라\n",
    "a = \"1234'"
   ]
  },
  {
   "cell_type": "code",
   "execution_count": 15,
   "metadata": {},
   "outputs": [
    {
     "data": {
      "text/plain": [
       "int"
      ]
     },
     "execution_count": 15,
     "metadata": {},
     "output_type": "execute_result"
    }
   ],
   "source": [
    "a = \"1234\"\n",
    "\n",
    "b = int(a)\n",
    "# int : 숫자로 이루어진 문자열을 다시 정수로 바꿔줌\n",
    "\n",
    "type(int(a))"
   ]
  },
  {
   "cell_type": "markdown",
   "metadata": {},
   "source": [
    "문제3. a = 2, b = 4 를 활용하여 더하기, 빼기, 나누기, 곱하기, 몫만, 나머지만 구해라"
   ]
  },
  {
   "cell_type": "code",
   "execution_count": 17,
   "metadata": {},
   "outputs": [
    {
     "name": "stdout",
     "output_type": "stream",
     "text": [
      "6\n",
      "-2\n",
      "8\n",
      "0.5\n",
      "0\n",
      "2\n"
     ]
    }
   ],
   "source": [
    "a = 2\n",
    "b = 4\n",
    "\n",
    "print(a + b)\n",
    "print(a - b)\n",
    "print(a * b)\n",
    "print(a / b)\n",
    "print(a // b)\n",
    "print(a % b)\n"
   ]
  },
  {
   "cell_type": "markdown",
   "metadata": {},
   "source": [
    "문제4. 밑이 6이고, 지수가 2일 때 거듭제곱을 구해라"
   ]
  },
  {
   "cell_type": "code",
   "execution_count": 18,
   "metadata": {},
   "outputs": [
    {
     "data": {
      "text/plain": [
       "36"
      ]
     },
     "execution_count": 18,
     "metadata": {},
     "output_type": "execute_result"
    }
   ],
   "source": [
    "6 ** 2"
   ]
  },
  {
   "cell_type": "markdown",
   "metadata": {},
   "source": [
    "문제5. 사용자로 부터 입력받은 2개의 수를 더하기를 해주는 프로그램을 작성하시오"
   ]
  },
  {
   "cell_type": "code",
   "execution_count": 22,
   "metadata": {},
   "outputs": [
    {
     "name": "stdout",
     "output_type": "stream",
     "text": [
      "20\n"
     ]
    }
   ],
   "source": [
    "a = int(input(\"첫 번째 수를 입력해주세요\"))\n",
    "b = int(input(\"두 번째 수를 입력해주세요\"))\n",
    "\n",
    "print(a + b)\n",
    "\n"
   ]
  },
  {
   "cell_type": "markdown",
   "metadata": {},
   "source": [
    "문제6. 두 개의 숫자를 입력받은 후 두 개의 숫자를 더한 값, 곱한 값, 나눈 몫, 나머지값을 각각 다음과 같이 출력하는 프로그램을 작성하시오\n",
    "\n",
    "1) 5 + 4 = 9\n",
    "2) 5 - 4 = 1\n",
    "3) 5 * 4 = 20\n",
    "4) 5 / 4 = 1.25\n",
    "5) 5 // 4 = 1\n",
    "6) 5 % 4 = 1"
   ]
  },
  {
   "cell_type": "code",
   "execution_count": 23,
   "metadata": {},
   "outputs": [
    {
     "name": "stdout",
     "output_type": "stream",
     "text": [
      "5 + 4 = 9\n",
      "5 - 4 = 1\n",
      "5 * 4 = 20\n",
      "5 / 4 = 1.25\n",
      "5 // 4 = 1\n",
      "5 % 4 = 1\n"
     ]
    }
   ],
   "source": [
    "a = int(input(\"첫 번째 수를 입력해주세요\"))\n",
    "b = int(input(\"두 번째 수를 입력해주세요\"))\n",
    "\n",
    "print(f\"{a} + {b} = {a + b}\")\n",
    "print(f\"{a} - {b} = {a - b}\")\n",
    "print(f\"{a} * {b} = {a * b}\")\n",
    "print(f\"{a} / {b} = {a / b}\")\n",
    "print(f\"{a} // {b} = {a // b}\")\n",
    "print(f\"{a} % {b} = {a % b}\")"
   ]
  },
  {
   "cell_type": "code",
   "execution_count": null,
   "metadata": {},
   "outputs": [],
   "source": []
  }
 ],
 "metadata": {
  "kernelspec": {
   "display_name": "Python 3",
   "language": "python",
   "name": "python3"
  },
  "language_info": {
   "codemirror_mode": {
    "name": "ipython",
    "version": 3
   },
   "file_extension": ".py",
   "mimetype": "text/x-python",
   "name": "python",
   "nbconvert_exporter": "python",
   "pygments_lexer": "ipython3",
   "version": "3.12.4"
  }
 },
 "nbformat": 4,
 "nbformat_minor": 2
}
